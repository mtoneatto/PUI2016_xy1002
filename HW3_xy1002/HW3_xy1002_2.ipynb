{
 "cells": [
  {
   "cell_type": "code",
   "execution_count": 2,
   "metadata": {
    "collapsed": false
   },
   "outputs": [
    {
     "name": "stdout",
     "output_type": "stream",
     "text": [
      "Populating the interactive namespace from numpy and matplotlib\n"
     ]
    },
    {
     "name": "stderr",
     "output_type": "stream",
     "text": [
      "/opt/rh/anaconda/root/lib/python2.7/site-packages/pandas/computation/__init__.py:19: UserWarning: The installed version of numexpr 2.4.4 is not supported in pandas and will be not be used\n",
      "\n",
      "  UserWarning)\n"
     ]
    }
   ],
   "source": [
    "from __future__ import print_function\n",
    "import pandas as pd\n",
    "import numpy as np\n",
    "import os\n",
    "import matplotlib as pl\n",
    "import zipfile\n",
    "\n",
    "%pylab inline"
   ]
  },
  {
   "cell_type": "markdown",
   "metadata": {},
   "source": [
    "# IDEA:\n",
    "## Younger people are more likely than elder people to bike for longer duration\n",
    "\n",
    "## NULL HYPOTHESIS:\n",
    "\n",
    "### The ratio of elder people for longer trip duration over elder people for shorter trip duration is the same or higher than the ratio of younger people for longer trip duration over younger people for shorter trip duration\n",
    "\n",
    "## ALTERNATIVE HYPOTHESIS:\n",
    "\n",
    "### The ratio of elder people for longer trip duration over elder people for shorter trip duration is lower than the ratio of younger people for longer trip duration over younger people for shorter trip duration\n",
    "\n",
    "H0 : Senior_LongerTrip / Senior_All >= Young_LongTrip / Young_All \n",
    "\n",
    "HA : Senior_LongerTrip / Senior_All < Young_LongTrip / Young_All\n",
    "\n",
    "### I will use a significance level: alpha = 0.05, which means i want the probability of getting a result at least as significant as mine to be less then 5%"
   ]
  },
  {
   "cell_type": "code",
   "execution_count": 3,
   "metadata": {
    "collapsed": false
   },
   "outputs": [
    {
     "name": "stdout",
     "output_type": "stream",
     "text": [
      "  % Total    % Received % Xferd  Average Speed   Time    Time     Time  Current\n",
      "                                 Dload  Upload   Total   Spent    Left  Speed\n",
      "100 4708k  100 4708k    0     0  9525k      0 --:--:-- --:--:-- --:--:-- 13.8M\n"
     ]
    }
   ],
   "source": [
    "#learning this method from Bailey Griswold, one member in our study group\n",
    "data_date = '201502'\n",
    "!curl -O \"https://s3.amazonaws.com/tripdata/{data_date}-citibike-tripdata.zip\"\n",
    "\n",
    "zf = zipfile.ZipFile(data_date + '-citibike-tripdata.zip')\n",
    "df= pd.read_csv(zf.open(data_date + '-citibike-tripdata.csv'))"
   ]
  },
  {
   "cell_type": "code",
   "execution_count": 4,
   "metadata": {
    "collapsed": false
   },
   "outputs": [
    {
     "data": {
      "text/html": [
       "<div>\n",
       "<table border=\"1\" class=\"dataframe\">\n",
       "  <thead>\n",
       "    <tr style=\"text-align: right;\">\n",
       "      <th></th>\n",
       "      <th>tripduration</th>\n",
       "      <th>starttime</th>\n",
       "      <th>stoptime</th>\n",
       "      <th>start station id</th>\n",
       "      <th>start station name</th>\n",
       "      <th>start station latitude</th>\n",
       "      <th>start station longitude</th>\n",
       "      <th>end station id</th>\n",
       "      <th>end station name</th>\n",
       "      <th>end station latitude</th>\n",
       "      <th>end station longitude</th>\n",
       "      <th>bikeid</th>\n",
       "      <th>usertype</th>\n",
       "      <th>birth year</th>\n",
       "      <th>gender</th>\n",
       "    </tr>\n",
       "  </thead>\n",
       "  <tbody>\n",
       "    <tr>\n",
       "      <th>0</th>\n",
       "      <td>801</td>\n",
       "      <td>2/1/2015 0:00</td>\n",
       "      <td>2/1/2015 0:14</td>\n",
       "      <td>521</td>\n",
       "      <td>8 Ave &amp; W 31 St</td>\n",
       "      <td>40.750450</td>\n",
       "      <td>-73.994811</td>\n",
       "      <td>423</td>\n",
       "      <td>W 54 St &amp; 9 Ave</td>\n",
       "      <td>40.765849</td>\n",
       "      <td>-73.986905</td>\n",
       "      <td>17131</td>\n",
       "      <td>Subscriber</td>\n",
       "      <td>1978.0</td>\n",
       "      <td>2</td>\n",
       "    </tr>\n",
       "    <tr>\n",
       "      <th>1</th>\n",
       "      <td>379</td>\n",
       "      <td>2/1/2015 0:00</td>\n",
       "      <td>2/1/2015 0:07</td>\n",
       "      <td>497</td>\n",
       "      <td>E 17 St &amp; Broadway</td>\n",
       "      <td>40.737050</td>\n",
       "      <td>-73.990093</td>\n",
       "      <td>504</td>\n",
       "      <td>1 Ave &amp; E 15 St</td>\n",
       "      <td>40.732219</td>\n",
       "      <td>-73.981656</td>\n",
       "      <td>21289</td>\n",
       "      <td>Subscriber</td>\n",
       "      <td>1993.0</td>\n",
       "      <td>1</td>\n",
       "    </tr>\n",
       "    <tr>\n",
       "      <th>2</th>\n",
       "      <td>2474</td>\n",
       "      <td>2/1/2015 0:01</td>\n",
       "      <td>2/1/2015 0:42</td>\n",
       "      <td>281</td>\n",
       "      <td>Grand Army Plaza &amp; Central Park S</td>\n",
       "      <td>40.764397</td>\n",
       "      <td>-73.973715</td>\n",
       "      <td>127</td>\n",
       "      <td>Barrow St &amp; Hudson St</td>\n",
       "      <td>40.731724</td>\n",
       "      <td>-74.006744</td>\n",
       "      <td>18903</td>\n",
       "      <td>Subscriber</td>\n",
       "      <td>1969.0</td>\n",
       "      <td>2</td>\n",
       "    </tr>\n",
       "    <tr>\n",
       "      <th>3</th>\n",
       "      <td>818</td>\n",
       "      <td>2/1/2015 0:01</td>\n",
       "      <td>2/1/2015 0:15</td>\n",
       "      <td>2004</td>\n",
       "      <td>6 Ave &amp; Broome St</td>\n",
       "      <td>40.724399</td>\n",
       "      <td>-74.004704</td>\n",
       "      <td>505</td>\n",
       "      <td>6 Ave &amp; W 33 St</td>\n",
       "      <td>40.749013</td>\n",
       "      <td>-73.988484</td>\n",
       "      <td>21044</td>\n",
       "      <td>Subscriber</td>\n",
       "      <td>1985.0</td>\n",
       "      <td>2</td>\n",
       "    </tr>\n",
       "    <tr>\n",
       "      <th>4</th>\n",
       "      <td>544</td>\n",
       "      <td>2/1/2015 0:01</td>\n",
       "      <td>2/1/2015 0:10</td>\n",
       "      <td>323</td>\n",
       "      <td>Lawrence St &amp; Willoughby St</td>\n",
       "      <td>40.692362</td>\n",
       "      <td>-73.986317</td>\n",
       "      <td>83</td>\n",
       "      <td>Atlantic Ave &amp; Fort Greene Pl</td>\n",
       "      <td>40.683826</td>\n",
       "      <td>-73.976323</td>\n",
       "      <td>19868</td>\n",
       "      <td>Subscriber</td>\n",
       "      <td>1957.0</td>\n",
       "      <td>1</td>\n",
       "    </tr>\n",
       "    <tr>\n",
       "      <th>5</th>\n",
       "      <td>717</td>\n",
       "      <td>2/1/2015 0:02</td>\n",
       "      <td>2/1/2015 0:14</td>\n",
       "      <td>373</td>\n",
       "      <td>Willoughby Ave &amp; Walworth St</td>\n",
       "      <td>40.693317</td>\n",
       "      <td>-73.953820</td>\n",
       "      <td>2002</td>\n",
       "      <td>Wythe Ave &amp; Metropolitan Ave</td>\n",
       "      <td>40.716887</td>\n",
       "      <td>-73.963198</td>\n",
       "      <td>15854</td>\n",
       "      <td>Subscriber</td>\n",
       "      <td>1979.0</td>\n",
       "      <td>1</td>\n",
       "    </tr>\n",
       "    <tr>\n",
       "      <th>6</th>\n",
       "      <td>1306</td>\n",
       "      <td>2/1/2015 0:04</td>\n",
       "      <td>2/1/2015 0:26</td>\n",
       "      <td>352</td>\n",
       "      <td>W 56 St &amp; 6 Ave</td>\n",
       "      <td>40.763406</td>\n",
       "      <td>-73.977225</td>\n",
       "      <td>504</td>\n",
       "      <td>1 Ave &amp; E 15 St</td>\n",
       "      <td>40.732219</td>\n",
       "      <td>-73.981656</td>\n",
       "      <td>15173</td>\n",
       "      <td>Subscriber</td>\n",
       "      <td>1983.0</td>\n",
       "      <td>1</td>\n",
       "    </tr>\n",
       "    <tr>\n",
       "      <th>7</th>\n",
       "      <td>913</td>\n",
       "      <td>2/1/2015 0:04</td>\n",
       "      <td>2/1/2015 0:19</td>\n",
       "      <td>439</td>\n",
       "      <td>E 4 St &amp; 2 Ave</td>\n",
       "      <td>40.726281</td>\n",
       "      <td>-73.989780</td>\n",
       "      <td>116</td>\n",
       "      <td>W 17 St &amp; 8 Ave</td>\n",
       "      <td>40.741776</td>\n",
       "      <td>-74.001497</td>\n",
       "      <td>17862</td>\n",
       "      <td>Subscriber</td>\n",
       "      <td>1955.0</td>\n",
       "      <td>1</td>\n",
       "    </tr>\n",
       "    <tr>\n",
       "      <th>8</th>\n",
       "      <td>759</td>\n",
       "      <td>2/1/2015 0:04</td>\n",
       "      <td>2/1/2015 0:17</td>\n",
       "      <td>335</td>\n",
       "      <td>Washington Pl &amp; Broadway</td>\n",
       "      <td>40.729039</td>\n",
       "      <td>-73.994046</td>\n",
       "      <td>2012</td>\n",
       "      <td>E 27 St &amp; 1 Ave</td>\n",
       "      <td>40.739445</td>\n",
       "      <td>-73.976806</td>\n",
       "      <td>21183</td>\n",
       "      <td>Subscriber</td>\n",
       "      <td>1985.0</td>\n",
       "      <td>2</td>\n",
       "    </tr>\n",
       "    <tr>\n",
       "      <th>9</th>\n",
       "      <td>585</td>\n",
       "      <td>2/1/2015 0:05</td>\n",
       "      <td>2/1/2015 0:15</td>\n",
       "      <td>284</td>\n",
       "      <td>Greenwich Ave &amp; 8 Ave</td>\n",
       "      <td>40.739017</td>\n",
       "      <td>-74.002638</td>\n",
       "      <td>444</td>\n",
       "      <td>Broadway &amp; W 24 St</td>\n",
       "      <td>40.742354</td>\n",
       "      <td>-73.989151</td>\n",
       "      <td>14843</td>\n",
       "      <td>Subscriber</td>\n",
       "      <td>1982.0</td>\n",
       "      <td>1</td>\n",
       "    </tr>\n",
       "  </tbody>\n",
       "</table>\n",
       "</div>"
      ],
      "text/plain": [
       "   tripduration      starttime       stoptime  start station id  \\\n",
       "0           801  2/1/2015 0:00  2/1/2015 0:14               521   \n",
       "1           379  2/1/2015 0:00  2/1/2015 0:07               497   \n",
       "2          2474  2/1/2015 0:01  2/1/2015 0:42               281   \n",
       "3           818  2/1/2015 0:01  2/1/2015 0:15              2004   \n",
       "4           544  2/1/2015 0:01  2/1/2015 0:10               323   \n",
       "5           717  2/1/2015 0:02  2/1/2015 0:14               373   \n",
       "6          1306  2/1/2015 0:04  2/1/2015 0:26               352   \n",
       "7           913  2/1/2015 0:04  2/1/2015 0:19               439   \n",
       "8           759  2/1/2015 0:04  2/1/2015 0:17               335   \n",
       "9           585  2/1/2015 0:05  2/1/2015 0:15               284   \n",
       "\n",
       "                  start station name  start station latitude  \\\n",
       "0                    8 Ave & W 31 St               40.750450   \n",
       "1                 E 17 St & Broadway               40.737050   \n",
       "2  Grand Army Plaza & Central Park S               40.764397   \n",
       "3                  6 Ave & Broome St               40.724399   \n",
       "4        Lawrence St & Willoughby St               40.692362   \n",
       "5       Willoughby Ave & Walworth St               40.693317   \n",
       "6                    W 56 St & 6 Ave               40.763406   \n",
       "7                     E 4 St & 2 Ave               40.726281   \n",
       "8           Washington Pl & Broadway               40.729039   \n",
       "9              Greenwich Ave & 8 Ave               40.739017   \n",
       "\n",
       "   start station longitude  end station id               end station name  \\\n",
       "0               -73.994811             423                W 54 St & 9 Ave   \n",
       "1               -73.990093             504                1 Ave & E 15 St   \n",
       "2               -73.973715             127          Barrow St & Hudson St   \n",
       "3               -74.004704             505                6 Ave & W 33 St   \n",
       "4               -73.986317              83  Atlantic Ave & Fort Greene Pl   \n",
       "5               -73.953820            2002   Wythe Ave & Metropolitan Ave   \n",
       "6               -73.977225             504                1 Ave & E 15 St   \n",
       "7               -73.989780             116                W 17 St & 8 Ave   \n",
       "8               -73.994046            2012                E 27 St & 1 Ave   \n",
       "9               -74.002638             444             Broadway & W 24 St   \n",
       "\n",
       "   end station latitude  end station longitude  bikeid    usertype  \\\n",
       "0             40.765849             -73.986905   17131  Subscriber   \n",
       "1             40.732219             -73.981656   21289  Subscriber   \n",
       "2             40.731724             -74.006744   18903  Subscriber   \n",
       "3             40.749013             -73.988484   21044  Subscriber   \n",
       "4             40.683826             -73.976323   19868  Subscriber   \n",
       "5             40.716887             -73.963198   15854  Subscriber   \n",
       "6             40.732219             -73.981656   15173  Subscriber   \n",
       "7             40.741776             -74.001497   17862  Subscriber   \n",
       "8             40.739445             -73.976806   21183  Subscriber   \n",
       "9             40.742354             -73.989151   14843  Subscriber   \n",
       "\n",
       "   birth year  gender  \n",
       "0      1978.0       2  \n",
       "1      1993.0       1  \n",
       "2      1969.0       2  \n",
       "3      1985.0       2  \n",
       "4      1957.0       1  \n",
       "5      1979.0       1  \n",
       "6      1983.0       1  \n",
       "7      1955.0       1  \n",
       "8      1985.0       2  \n",
       "9      1982.0       1  "
      ]
     },
     "execution_count": 4,
     "metadata": {},
     "output_type": "execute_result"
    }
   ],
   "source": [
    "df.head(n=10)"
   ]
  },
  {
   "cell_type": "code",
   "execution_count": 5,
   "metadata": {
    "collapsed": true
   },
   "outputs": [],
   "source": [
    "df = df[['tripduration','birth year']]"
   ]
  },
  {
   "cell_type": "code",
   "execution_count": 6,
   "metadata": {
    "collapsed": false
   },
   "outputs": [
    {
     "data": {
      "text/html": [
       "<div>\n",
       "<table border=\"1\" class=\"dataframe\">\n",
       "  <thead>\n",
       "    <tr style=\"text-align: right;\">\n",
       "      <th></th>\n",
       "      <th>tripduration</th>\n",
       "      <th>birth year</th>\n",
       "    </tr>\n",
       "  </thead>\n",
       "  <tbody>\n",
       "    <tr>\n",
       "      <th>0</th>\n",
       "      <td>801</td>\n",
       "      <td>1978.0</td>\n",
       "    </tr>\n",
       "    <tr>\n",
       "      <th>1</th>\n",
       "      <td>379</td>\n",
       "      <td>1993.0</td>\n",
       "    </tr>\n",
       "    <tr>\n",
       "      <th>2</th>\n",
       "      <td>2474</td>\n",
       "      <td>1969.0</td>\n",
       "    </tr>\n",
       "    <tr>\n",
       "      <th>3</th>\n",
       "      <td>818</td>\n",
       "      <td>1985.0</td>\n",
       "    </tr>\n",
       "    <tr>\n",
       "      <th>4</th>\n",
       "      <td>544</td>\n",
       "      <td>1957.0</td>\n",
       "    </tr>\n",
       "    <tr>\n",
       "      <th>5</th>\n",
       "      <td>717</td>\n",
       "      <td>1979.0</td>\n",
       "    </tr>\n",
       "    <tr>\n",
       "      <th>6</th>\n",
       "      <td>1306</td>\n",
       "      <td>1983.0</td>\n",
       "    </tr>\n",
       "    <tr>\n",
       "      <th>7</th>\n",
       "      <td>913</td>\n",
       "      <td>1955.0</td>\n",
       "    </tr>\n",
       "    <tr>\n",
       "      <th>8</th>\n",
       "      <td>759</td>\n",
       "      <td>1985.0</td>\n",
       "    </tr>\n",
       "    <tr>\n",
       "      <th>9</th>\n",
       "      <td>585</td>\n",
       "      <td>1982.0</td>\n",
       "    </tr>\n",
       "  </tbody>\n",
       "</table>\n",
       "</div>"
      ],
      "text/plain": [
       "   tripduration  birth year\n",
       "0           801      1978.0\n",
       "1           379      1993.0\n",
       "2          2474      1969.0\n",
       "3           818      1985.0\n",
       "4           544      1957.0\n",
       "5           717      1979.0\n",
       "6          1306      1983.0\n",
       "7           913      1955.0\n",
       "8           759      1985.0\n",
       "9           585      1982.0"
      ]
     },
     "execution_count": 6,
     "metadata": {},
     "output_type": "execute_result"
    }
   ],
   "source": [
    "df.head(n = 10)"
   ]
  },
  {
   "cell_type": "code",
   "execution_count": 7,
   "metadata": {
    "collapsed": false
   },
   "outputs": [],
   "source": [
    "df['age'] = 2016 - df['birth year']"
   ]
  },
  {
   "cell_type": "code",
   "execution_count": 8,
   "metadata": {
    "collapsed": false
   },
   "outputs": [],
   "source": [
    "df['tripduration'] = df['tripduration']/60"
   ]
  },
  {
   "cell_type": "code",
   "execution_count": 9,
   "metadata": {
    "collapsed": false
   },
   "outputs": [
    {
     "data": {
      "text/html": [
       "<div>\n",
       "<table border=\"1\" class=\"dataframe\">\n",
       "  <thead>\n",
       "    <tr style=\"text-align: right;\">\n",
       "      <th></th>\n",
       "      <th>tripduration</th>\n",
       "      <th>birth year</th>\n",
       "      <th>age</th>\n",
       "    </tr>\n",
       "  </thead>\n",
       "  <tbody>\n",
       "    <tr>\n",
       "      <th>0</th>\n",
       "      <td>13.350000</td>\n",
       "      <td>1978.0</td>\n",
       "      <td>38.0</td>\n",
       "    </tr>\n",
       "    <tr>\n",
       "      <th>1</th>\n",
       "      <td>6.316667</td>\n",
       "      <td>1993.0</td>\n",
       "      <td>23.0</td>\n",
       "    </tr>\n",
       "    <tr>\n",
       "      <th>2</th>\n",
       "      <td>41.233333</td>\n",
       "      <td>1969.0</td>\n",
       "      <td>47.0</td>\n",
       "    </tr>\n",
       "    <tr>\n",
       "      <th>3</th>\n",
       "      <td>13.633333</td>\n",
       "      <td>1985.0</td>\n",
       "      <td>31.0</td>\n",
       "    </tr>\n",
       "    <tr>\n",
       "      <th>4</th>\n",
       "      <td>9.066667</td>\n",
       "      <td>1957.0</td>\n",
       "      <td>59.0</td>\n",
       "    </tr>\n",
       "    <tr>\n",
       "      <th>5</th>\n",
       "      <td>11.950000</td>\n",
       "      <td>1979.0</td>\n",
       "      <td>37.0</td>\n",
       "    </tr>\n",
       "    <tr>\n",
       "      <th>6</th>\n",
       "      <td>21.766667</td>\n",
       "      <td>1983.0</td>\n",
       "      <td>33.0</td>\n",
       "    </tr>\n",
       "    <tr>\n",
       "      <th>7</th>\n",
       "      <td>15.216667</td>\n",
       "      <td>1955.0</td>\n",
       "      <td>61.0</td>\n",
       "    </tr>\n",
       "    <tr>\n",
       "      <th>8</th>\n",
       "      <td>12.650000</td>\n",
       "      <td>1985.0</td>\n",
       "      <td>31.0</td>\n",
       "    </tr>\n",
       "    <tr>\n",
       "      <th>9</th>\n",
       "      <td>9.750000</td>\n",
       "      <td>1982.0</td>\n",
       "      <td>34.0</td>\n",
       "    </tr>\n",
       "  </tbody>\n",
       "</table>\n",
       "</div>"
      ],
      "text/plain": [
       "   tripduration  birth year   age\n",
       "0     13.350000      1978.0  38.0\n",
       "1      6.316667      1993.0  23.0\n",
       "2     41.233333      1969.0  47.0\n",
       "3     13.633333      1985.0  31.0\n",
       "4      9.066667      1957.0  59.0\n",
       "5     11.950000      1979.0  37.0\n",
       "6     21.766667      1983.0  33.0\n",
       "7     15.216667      1955.0  61.0\n",
       "8     12.650000      1985.0  31.0\n",
       "9      9.750000      1982.0  34.0"
      ]
     },
     "execution_count": 9,
     "metadata": {},
     "output_type": "execute_result"
    }
   ],
   "source": [
    "df.head(n = 10)"
   ]
  },
  {
   "cell_type": "code",
   "execution_count": 10,
   "metadata": {
    "collapsed": false
   },
   "outputs": [
    {
     "data": {
      "text/plain": [
       "<matplotlib.text.Text at 0x7f311baa6810>"
      ]
     },
     "execution_count": 10,
     "metadata": {},
     "output_type": "execute_result"
    },
    {
     "data": {
      "image/png": "[encoded data removed]",
      "text/plain": [
       "<matplotlib.figure.Figure at 0x7f312107b8d0>"
      ]
     },
     "metadata": {},
     "output_type": "display_data"
    }
   ],
   "source": [
    "pl_duration = df['tripduration'].hist(bins = range(1,60,2))\n",
    "pl_duration.set_xlabel('Trip duration(min)')\n",
    "pl_duration.set_ylabel('Number of rides')\n",
    "pl_duration.set_title('Histogram of trip duration',fontsize = 20)"
   ]
  },
  {
   "cell_type": "code",
   "execution_count": 11,
   "metadata": {
    "collapsed": false
   },
   "outputs": [
    {
     "data": {
      "text/plain": [
       "<matplotlib.text.Text at 0x7f31163a2590>"
      ]
     },
     "execution_count": 11,
     "metadata": {},
     "output_type": "execute_result"
    },
    {
     "data": {
      "image/png": "[encoded data removed]",
      "text/plain": [
       "<matplotlib.figure.Figure at 0x7f311bb56a10>"
      ]
     },
     "metadata": {},
     "output_type": "display_data"
    }
   ],
   "source": [
    "pl_age = df['age'].hist(bins = range(1,100,2))\n",
    "pl_age.set_xlabel('Age')\n",
    "pl_age.set_ylabel('Number of rides')\n",
    "pl_age.set_title('Histogram of age',fontsize = 20)"
   ]
  },
  {
   "cell_type": "code",
   "execution_count": 25,
   "metadata": {
    "collapsed": true
   },
   "outputs": [],
   "source": [
    "df['more_than_10mins'] = df['tripduration'] > 10\n",
    "df['more_than_40_years_old'] = df['age'] > 40\n"
   ]
  },
  {
   "cell_type": "code",
   "execution_count": 26,
   "metadata": {
    "collapsed": false
   },
   "outputs": [
    {
     "data": {
      "text/html": [
       "<div>\n",
       "<table border=\"1\" class=\"dataframe\">\n",
       "  <thead>\n",
       "    <tr style=\"text-align: right;\">\n",
       "      <th></th>\n",
       "      <th>tripduration</th>\n",
       "      <th>birth year</th>\n",
       "      <th>age</th>\n",
       "      <th>more_than_10mins</th>\n",
       "      <th>more_than_40_years_old</th>\n",
       "      <th>more_than_20mins</th>\n",
       "    </tr>\n",
       "  </thead>\n",
       "  <tbody>\n",
       "    <tr>\n",
       "      <th>0</th>\n",
       "      <td>13.350000</td>\n",
       "      <td>1978.0</td>\n",
       "      <td>38.0</td>\n",
       "      <td>True</td>\n",
       "      <td>False</td>\n",
       "      <td>False</td>\n",
       "    </tr>\n",
       "    <tr>\n",
       "      <th>1</th>\n",
       "      <td>6.316667</td>\n",
       "      <td>1993.0</td>\n",
       "      <td>23.0</td>\n",
       "      <td>False</td>\n",
       "      <td>False</td>\n",
       "      <td>False</td>\n",
       "    </tr>\n",
       "    <tr>\n",
       "      <th>2</th>\n",
       "      <td>41.233333</td>\n",
       "      <td>1969.0</td>\n",
       "      <td>47.0</td>\n",
       "      <td>True</td>\n",
       "      <td>True</td>\n",
       "      <td>True</td>\n",
       "    </tr>\n",
       "    <tr>\n",
       "      <th>3</th>\n",
       "      <td>13.633333</td>\n",
       "      <td>1985.0</td>\n",
       "      <td>31.0</td>\n",
       "      <td>True</td>\n",
       "      <td>False</td>\n",
       "      <td>False</td>\n",
       "    </tr>\n",
       "    <tr>\n",
       "      <th>4</th>\n",
       "      <td>9.066667</td>\n",
       "      <td>1957.0</td>\n",
       "      <td>59.0</td>\n",
       "      <td>False</td>\n",
       "      <td>True</td>\n",
       "      <td>False</td>\n",
       "    </tr>\n",
       "    <tr>\n",
       "      <th>5</th>\n",
       "      <td>11.950000</td>\n",
       "      <td>1979.0</td>\n",
       "      <td>37.0</td>\n",
       "      <td>True</td>\n",
       "      <td>False</td>\n",
       "      <td>False</td>\n",
       "    </tr>\n",
       "    <tr>\n",
       "      <th>6</th>\n",
       "      <td>21.766667</td>\n",
       "      <td>1983.0</td>\n",
       "      <td>33.0</td>\n",
       "      <td>True</td>\n",
       "      <td>False</td>\n",
       "      <td>True</td>\n",
       "    </tr>\n",
       "    <tr>\n",
       "      <th>7</th>\n",
       "      <td>15.216667</td>\n",
       "      <td>1955.0</td>\n",
       "      <td>61.0</td>\n",
       "      <td>True</td>\n",
       "      <td>True</td>\n",
       "      <td>False</td>\n",
       "    </tr>\n",
       "    <tr>\n",
       "      <th>8</th>\n",
       "      <td>12.650000</td>\n",
       "      <td>1985.0</td>\n",
       "      <td>31.0</td>\n",
       "      <td>True</td>\n",
       "      <td>False</td>\n",
       "      <td>False</td>\n",
       "    </tr>\n",
       "    <tr>\n",
       "      <th>9</th>\n",
       "      <td>9.750000</td>\n",
       "      <td>1982.0</td>\n",
       "      <td>34.0</td>\n",
       "      <td>False</td>\n",
       "      <td>False</td>\n",
       "      <td>False</td>\n",
       "    </tr>\n",
       "  </tbody>\n",
       "</table>\n",
       "</div>"
      ],
      "text/plain": [
       "   tripduration  birth year   age more_than_10mins more_than_40_years_old  \\\n",
       "0     13.350000      1978.0  38.0             True                  False   \n",
       "1      6.316667      1993.0  23.0            False                  False   \n",
       "2     41.233333      1969.0  47.0             True                   True   \n",
       "3     13.633333      1985.0  31.0             True                  False   \n",
       "4      9.066667      1957.0  59.0            False                   True   \n",
       "5     11.950000      1979.0  37.0             True                  False   \n",
       "6     21.766667      1983.0  33.0             True                  False   \n",
       "7     15.216667      1955.0  61.0             True                   True   \n",
       "8     12.650000      1985.0  31.0             True                  False   \n",
       "9      9.750000      1982.0  34.0            False                  False   \n",
       "\n",
       "  more_than_20mins  \n",
       "0            False  \n",
       "1            False  \n",
       "2             True  \n",
       "3            False  \n",
       "4            False  \n",
       "5            False  \n",
       "6             True  \n",
       "7            False  \n",
       "8            False  \n",
       "9            False  "
      ]
     },
     "execution_count": 26,
     "metadata": {},
     "output_type": "execute_result"
    }
   ],
   "source": [
    "df.head( n = 10)"
   ]
  },
  {
   "cell_type": "code",
   "execution_count": 27,
   "metadata": {
    "collapsed": false
   },
   "outputs": [
    {
     "data": {
      "text/plain": [
       "<matplotlib.legend.Legend at 0x7f31161c00d0>"
      ]
     },
     "execution_count": 27,
     "metadata": {},
     "output_type": "execute_result"
    },
    {
     "data": {
      "image/png": "[encoded data removed]",
      "text/plain": [
       "<matplotlib.figure.Figure at 0x7f310ea6d990>"
      ]
     },
     "metadata": {},
     "output_type": "display_data"
    }
   ],
   "source": [
    "#from example \n",
    "#senior bikers group by tripduration\n",
    "counts_senior = df.more_than_10mins[df.more_than_40_years_old == True].groupby([df.more_than_10mins]).count()\n",
    "norm_s = 1\n",
    "error_s = np.sqrt(counts_senior)\n",
    "((counts_senior) / norm_s).plot(kind = 'bar', color = 'IndianRed',\n",
    "                                yerr = [((error_s) / norm_s, (error_s) / norm_s)],\n",
    "                                label = 'Senior bikers')\n",
    "\n",
    "#youth bikers group by tripduration\n",
    "counts_youth = df.more_than_10mins[df.more_than_40_years_old == False].groupby([df.more_than_10mins]).count()\n",
    "counts_youth\n",
    "norm_y = 1\n",
    "error_y = np.sqrt(counts_youth)\n",
    "ax = ((counts_youth) / norm_y).plot(kind = 'bar', color = 'SteelBlue', \n",
    "                                    yerr = [((error_y) / norm_y, (error_y) / norm_y)],\n",
    "                                    alpha = 0.5, label = 'Young bikers')\n",
    "ax.xaxis.set_ticklabels(['<=10 mins','>10 mins'])\n",
    "ax.set_ylabel('Number of rides')\n",
    "ax.set_xlabel('Trip duration')\n",
    "ax.text( -1, -30000, 'Figure 1: Distribution of Citibike bikers by tripduration in ' + data_date\n",
    "        + ', absolute counts, with statistical errors',fontsize = 15)\n",
    "ax.legend()"
   ]
  },
  {
   "cell_type": "code",
   "execution_count": 28,
   "metadata": {
    "collapsed": false
   },
   "outputs": [
    {
     "data": {
      "text/plain": [
       "<matplotlib.legend.Legend at 0x7f308a46c510>"
      ]
     },
     "execution_count": 28,
     "metadata": {},
     "output_type": "execute_result"
    },
    {
     "data": {
      "image/png": "[encoded data removed]",
      "text/plain": [
       "<matplotlib.figure.Figure at 0x7f310b5fce10>"
      ]
     },
     "metadata": {},
     "output_type": "display_data"
    }
   ],
   "source": [
    "norm_s = counts_senior.sum()\n",
    "error_s = np.sqrt(counts_senior)\n",
    "((counts_senior) / norm_s).plot(kind=\"bar\", color='IndianRed',  \n",
    "                           yerr=[((error_s) / norm_s, (error_s) / norm_s)], \n",
    "                           label='Senior bikers')\n",
    "\n",
    "norm_y = counts_youth.sum()\n",
    "error_y = np.sqrt(counts_youth)\n",
    "ax = ((counts_youth) / norm_y).plot(kind=\"bar\", alpha=0.5, \n",
    "                                yerr=[((error_y) / norm_y, (error_y) / norm_y)], \n",
    "                                color='SteelBlue', label='Young bikers')\n",
    "\n",
    "ax.xaxis.set_ticklabels(['<=10 mins','>10 mins'])\n",
    "ax.set_ylabel('Number of rides')\n",
    "ax.set_xlabel('Trip duration')\n",
    "ax.text( -1, -0.3, 'Figure 2: Distribution of Citibike bikers by tripduration in ' + data_date\n",
    "        + ', normalized',fontsize = 15)\n",
    "ax.legend()"
   ]
  },
  {
   "cell_type": "code",
   "execution_count": null,
   "metadata": {
    "collapsed": true
   },
   "outputs": [],
   "source": []
  }
 ],
 "metadata": {
  "kernelspec": {
   "display_name": "Python 2",
   "language": "python",
   "name": "python2"
  },
  "language_info": {
   "codemirror_mode": {
    "name": "ipython",
    "version": 2
   },
   "file_extension": ".py",
   "mimetype": "text/x-python",
   "name": "python",
   "nbconvert_exporter": "python",
   "pygments_lexer": "ipython2",
   "version": "2.7.11"
  }
 },
 "nbformat": 4,
 "nbformat_minor": 0
}
