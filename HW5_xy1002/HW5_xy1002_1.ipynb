{
 "cells": [
  {
   "cell_type": "code",
   "execution_count": 1,
   "metadata": {
    "collapsed": false
   },
   "outputs": [
    {
     "name": "stdout",
     "output_type": "stream",
     "text": [
      "Populating the interactive namespace from numpy and matplotlib\n"
     ]
    }
   ],
   "source": [
    "from __future__ import print_function\n",
    "import os\n",
    "import sys\n",
    "import numpy as np\n",
    "import pandas as pd\n",
    "import pylab as pl\n",
    "\n",
    "%pylab inline"
   ]
  },
  {
   "cell_type": "code",
   "execution_count": 2,
   "metadata": {
    "collapsed": false
   },
   "outputs": [
    {
     "name": "stdout",
     "output_type": "stream",
     "text": [
      "('Downloading', '201507')\n",
      "file in place, you can continue\n"
     ]
    }
   ],
   "source": [
    "from getCitiBikeCSV import getCitiBikeCSV\n",
    "datestring = '201507'\n",
    "\n",
    "getCitiBikeCSV(datestring)\n"
   ]
  },
  {
   "cell_type": "code",
   "execution_count": 3,
   "metadata": {
    "collapsed": false
   },
   "outputs": [
    {
     "data": {
      "text/html": [
       "<div>\n",
       "<table border=\"1\" class=\"dataframe\">\n",
       "  <thead>\n",
       "    <tr style=\"text-align: right;\">\n",
       "      <th></th>\n",
       "      <th>tripduration</th>\n",
       "      <th>starttime</th>\n",
       "      <th>stoptime</th>\n",
       "      <th>start station id</th>\n",
       "      <th>start station name</th>\n",
       "      <th>start station latitude</th>\n",
       "      <th>start station longitude</th>\n",
       "      <th>end station id</th>\n",
       "      <th>end station name</th>\n",
       "      <th>end station latitude</th>\n",
       "      <th>end station longitude</th>\n",
       "      <th>bikeid</th>\n",
       "      <th>usertype</th>\n",
       "      <th>birth year</th>\n",
       "      <th>gender</th>\n",
       "    </tr>\n",
       "  </thead>\n",
       "  <tbody>\n",
       "    <tr>\n",
       "      <th>0</th>\n",
       "      <td>732</td>\n",
       "      <td>7/1/2015 00:00:03</td>\n",
       "      <td>7/1/2015 00:12:16</td>\n",
       "      <td>489</td>\n",
       "      <td>10 Ave &amp; W 28 St</td>\n",
       "      <td>40.750664</td>\n",
       "      <td>-74.001768</td>\n",
       "      <td>368</td>\n",
       "      <td>Carmine St &amp; 6 Ave</td>\n",
       "      <td>40.730386</td>\n",
       "      <td>-74.002150</td>\n",
       "      <td>18669</td>\n",
       "      <td>Subscriber</td>\n",
       "      <td>1970.0</td>\n",
       "      <td>1</td>\n",
       "    </tr>\n",
       "    <tr>\n",
       "      <th>1</th>\n",
       "      <td>322</td>\n",
       "      <td>7/1/2015 00:00:06</td>\n",
       "      <td>7/1/2015 00:05:29</td>\n",
       "      <td>304</td>\n",
       "      <td>Broadway &amp; Battery Pl</td>\n",
       "      <td>40.704633</td>\n",
       "      <td>-74.013617</td>\n",
       "      <td>3002</td>\n",
       "      <td>South End Ave &amp; Liberty St</td>\n",
       "      <td>40.711512</td>\n",
       "      <td>-74.015756</td>\n",
       "      <td>14618</td>\n",
       "      <td>Subscriber</td>\n",
       "      <td>1984.0</td>\n",
       "      <td>1</td>\n",
       "    </tr>\n",
       "    <tr>\n",
       "      <th>2</th>\n",
       "      <td>790</td>\n",
       "      <td>7/1/2015 00:00:17</td>\n",
       "      <td>7/1/2015 00:13:28</td>\n",
       "      <td>447</td>\n",
       "      <td>8 Ave &amp; W 52 St</td>\n",
       "      <td>40.763707</td>\n",
       "      <td>-73.985162</td>\n",
       "      <td>358</td>\n",
       "      <td>Christopher St &amp; Greenwich St</td>\n",
       "      <td>40.732916</td>\n",
       "      <td>-74.007114</td>\n",
       "      <td>18801</td>\n",
       "      <td>Subscriber</td>\n",
       "      <td>1992.0</td>\n",
       "      <td>1</td>\n",
       "    </tr>\n",
       "    <tr>\n",
       "      <th>3</th>\n",
       "      <td>1228</td>\n",
       "      <td>7/1/2015 00:00:23</td>\n",
       "      <td>7/1/2015 00:20:51</td>\n",
       "      <td>490</td>\n",
       "      <td>8 Ave &amp; W 33 St</td>\n",
       "      <td>40.751551</td>\n",
       "      <td>-73.993934</td>\n",
       "      <td>250</td>\n",
       "      <td>Lafayette St &amp; Jersey St</td>\n",
       "      <td>40.724561</td>\n",
       "      <td>-73.995653</td>\n",
       "      <td>19137</td>\n",
       "      <td>Subscriber</td>\n",
       "      <td>1990.0</td>\n",
       "      <td>1</td>\n",
       "    </tr>\n",
       "    <tr>\n",
       "      <th>4</th>\n",
       "      <td>1383</td>\n",
       "      <td>7/1/2015 00:00:44</td>\n",
       "      <td>7/1/2015 00:23:48</td>\n",
       "      <td>327</td>\n",
       "      <td>Vesey Pl &amp; River Terrace</td>\n",
       "      <td>40.715338</td>\n",
       "      <td>-74.016584</td>\n",
       "      <td>72</td>\n",
       "      <td>W 52 St &amp; 11 Ave</td>\n",
       "      <td>40.767272</td>\n",
       "      <td>-73.993929</td>\n",
       "      <td>15808</td>\n",
       "      <td>Subscriber</td>\n",
       "      <td>1988.0</td>\n",
       "      <td>1</td>\n",
       "    </tr>\n",
       "  </tbody>\n",
       "</table>\n",
       "</div>"
      ],
      "text/plain": [
       "   tripduration          starttime           stoptime  start station id  \\\n",
       "0           732  7/1/2015 00:00:03  7/1/2015 00:12:16               489   \n",
       "1           322  7/1/2015 00:00:06  7/1/2015 00:05:29               304   \n",
       "2           790  7/1/2015 00:00:17  7/1/2015 00:13:28               447   \n",
       "3          1228  7/1/2015 00:00:23  7/1/2015 00:20:51               490   \n",
       "4          1383  7/1/2015 00:00:44  7/1/2015 00:23:48               327   \n",
       "\n",
       "         start station name  start station latitude  start station longitude  \\\n",
       "0          10 Ave & W 28 St               40.750664               -74.001768   \n",
       "1     Broadway & Battery Pl               40.704633               -74.013617   \n",
       "2           8 Ave & W 52 St               40.763707               -73.985162   \n",
       "3           8 Ave & W 33 St               40.751551               -73.993934   \n",
       "4  Vesey Pl & River Terrace               40.715338               -74.016584   \n",
       "\n",
       "   end station id               end station name  end station latitude  \\\n",
       "0             368             Carmine St & 6 Ave             40.730386   \n",
       "1            3002     South End Ave & Liberty St             40.711512   \n",
       "2             358  Christopher St & Greenwich St             40.732916   \n",
       "3             250       Lafayette St & Jersey St             40.724561   \n",
       "4              72               W 52 St & 11 Ave             40.767272   \n",
       "\n",
       "   end station longitude  bikeid    usertype  birth year  gender  \n",
       "0             -74.002150   18669  Subscriber      1970.0       1  \n",
       "1             -74.015756   14618  Subscriber      1984.0       1  \n",
       "2             -74.007114   18801  Subscriber      1992.0       1  \n",
       "3             -73.995653   19137  Subscriber      1990.0       1  \n",
       "4             -73.993929   15808  Subscriber      1988.0       1  "
      ]
     },
     "execution_count": 3,
     "metadata": {},
     "output_type": "execute_result"
    }
   ],
   "source": [
    "df = pd.read_csv(os.getenv(\"PUIDATA\") + \"/\" + datestring + '-citibike-tripdata.csv')\n",
    "df.head()"
   ]
  },
  {
   "cell_type": "code",
   "execution_count": 4,
   "metadata": {
    "collapsed": true
   },
   "outputs": [],
   "source": [
    "df['age'] = 2016 - df['birth year']\n"
   ]
  },
  {
   "cell_type": "code",
   "execution_count": 5,
   "metadata": {
    "collapsed": false
   },
   "outputs": [
    {
     "data": {
      "text/plain": [
       "Index([u'tripduration', u'starttime', u'stoptime', u'start station id',\n",
       "       u'start station name', u'start station latitude',\n",
       "       u'start station longitude', u'end station id', u'end station name',\n",
       "       u'end station latitude', u'end station longitude', u'bikeid',\n",
       "       u'usertype', u'birth year', u'gender', u'age'],\n",
       "      dtype='object')"
      ]
     },
     "execution_count": 5,
     "metadata": {},
     "output_type": "execute_result"
    }
   ],
   "source": [
    "df.columns"
   ]
  },
  {
   "cell_type": "code",
   "execution_count": 6,
   "metadata": {
    "collapsed": false
   },
   "outputs": [
    {
     "data": {
      "text/html": [
       "<div>\n",
       "<table border=\"1\" class=\"dataframe\">\n",
       "  <thead>\n",
       "    <tr style=\"text-align: right;\">\n",
       "      <th></th>\n",
       "      <th>start station latitude</th>\n",
       "      <th>start station longitude</th>\n",
       "      <th>birth year</th>\n",
       "      <th>gender</th>\n",
       "      <th>age</th>\n",
       "    </tr>\n",
       "  </thead>\n",
       "  <tbody>\n",
       "    <tr>\n",
       "      <th>0</th>\n",
       "      <td>40.750664</td>\n",
       "      <td>-74.001768</td>\n",
       "      <td>1970.0</td>\n",
       "      <td>1</td>\n",
       "      <td>46.0</td>\n",
       "    </tr>\n",
       "    <tr>\n",
       "      <th>1</th>\n",
       "      <td>40.704633</td>\n",
       "      <td>-74.013617</td>\n",
       "      <td>1984.0</td>\n",
       "      <td>1</td>\n",
       "      <td>32.0</td>\n",
       "    </tr>\n",
       "    <tr>\n",
       "      <th>2</th>\n",
       "      <td>40.763707</td>\n",
       "      <td>-73.985162</td>\n",
       "      <td>1992.0</td>\n",
       "      <td>1</td>\n",
       "      <td>24.0</td>\n",
       "    </tr>\n",
       "    <tr>\n",
       "      <th>3</th>\n",
       "      <td>40.751551</td>\n",
       "      <td>-73.993934</td>\n",
       "      <td>1990.0</td>\n",
       "      <td>1</td>\n",
       "      <td>26.0</td>\n",
       "    </tr>\n",
       "    <tr>\n",
       "      <th>4</th>\n",
       "      <td>40.715338</td>\n",
       "      <td>-74.016584</td>\n",
       "      <td>1988.0</td>\n",
       "      <td>1</td>\n",
       "      <td>28.0</td>\n",
       "    </tr>\n",
       "  </tbody>\n",
       "</table>\n",
       "</div>"
      ],
      "text/plain": [
       "   start station latitude  start station longitude  birth year  gender   age\n",
       "0               40.750664               -74.001768      1970.0       1  46.0\n",
       "1               40.704633               -74.013617      1984.0       1  32.0\n",
       "2               40.763707               -73.985162      1992.0       1  24.0\n",
       "3               40.751551               -73.993934      1990.0       1  26.0\n",
       "4               40.715338               -74.016584      1988.0       1  28.0"
      ]
     },
     "execution_count": 6,
     "metadata": {},
     "output_type": "execute_result"
    }
   ],
   "source": [
    "df_1 = df.drop(['tripduration', 'starttime', 'stoptime', 'start station id',\n",
    "       'start station name', 'end station id', 'end station name',\n",
    "       'end station latitude', 'end station longitude', 'bikeid',\n",
    "       'usertype'], axis = 1)\n",
    "df_1.head()"
   ]
  },
  {
   "cell_type": "code",
   "execution_count": 7,
   "metadata": {
    "collapsed": false
   },
   "outputs": [
    {
     "data": {
      "text/html": [
       "<div>\n",
       "<table border=\"1\" class=\"dataframe\">\n",
       "  <thead>\n",
       "    <tr style=\"text-align: right;\">\n",
       "      <th></th>\n",
       "      <th>start station latitude</th>\n",
       "      <th>start station longitude</th>\n",
       "      <th>birth year</th>\n",
       "      <th>gender</th>\n",
       "      <th>age</th>\n",
       "    </tr>\n",
       "  </thead>\n",
       "  <tbody>\n",
       "    <tr>\n",
       "      <th>0</th>\n",
       "      <td>40.750664</td>\n",
       "      <td>-74.001768</td>\n",
       "      <td>1970.0</td>\n",
       "      <td>1</td>\n",
       "      <td>46.0</td>\n",
       "    </tr>\n",
       "    <tr>\n",
       "      <th>1</th>\n",
       "      <td>40.704633</td>\n",
       "      <td>-74.013617</td>\n",
       "      <td>1984.0</td>\n",
       "      <td>1</td>\n",
       "      <td>32.0</td>\n",
       "    </tr>\n",
       "    <tr>\n",
       "      <th>2</th>\n",
       "      <td>40.763707</td>\n",
       "      <td>-73.985162</td>\n",
       "      <td>1992.0</td>\n",
       "      <td>1</td>\n",
       "      <td>24.0</td>\n",
       "    </tr>\n",
       "    <tr>\n",
       "      <th>3</th>\n",
       "      <td>40.751551</td>\n",
       "      <td>-73.993934</td>\n",
       "      <td>1990.0</td>\n",
       "      <td>1</td>\n",
       "      <td>26.0</td>\n",
       "    </tr>\n",
       "    <tr>\n",
       "      <th>4</th>\n",
       "      <td>40.715338</td>\n",
       "      <td>-74.016584</td>\n",
       "      <td>1988.0</td>\n",
       "      <td>1</td>\n",
       "      <td>28.0</td>\n",
       "    </tr>\n",
       "  </tbody>\n",
       "</table>\n",
       "</div>"
      ],
      "text/plain": [
       "   start station latitude  start station longitude  birth year  gender   age\n",
       "0               40.750664               -74.001768      1970.0       1  46.0\n",
       "1               40.704633               -74.013617      1984.0       1  32.0\n",
       "2               40.763707               -73.985162      1992.0       1  24.0\n",
       "3               40.751551               -73.993934      1990.0       1  26.0\n",
       "4               40.715338               -74.016584      1988.0       1  28.0"
      ]
     },
     "execution_count": 7,
     "metadata": {},
     "output_type": "execute_result"
    }
   ],
   "source": [
    "df_1['age'].dropna(inplace= True)\n",
    "df_1.head()"
   ]
  },
  {
   "cell_type": "code",
   "execution_count": 8,
   "metadata": {
    "collapsed": false
   },
   "outputs": [],
   "source": [
    "age_mean = average(df_1.age)\n",
    "age_std = std(df_1.age)"
   ]
  },
  {
   "cell_type": "code",
   "execution_count": 121,
   "metadata": {
    "collapsed": false
   },
   "outputs": [
    {
     "data": {
      "text/plain": [
       "<matplotlib.text.Text at 0x7f0315a97e10>"
      ]
     },
     "execution_count": 121,
     "metadata": {},
     "output_type": "execute_result"
    },
    {
     "data": {
      "image/png": "[encoded data removed]",
      "text/plain": [
       "<matplotlib.figure.Figure at 0x7f03a3ae3b10>"
      ]
     },
     "metadata": {},
     "output_type": "display_data"
    }
   ],
   "source": [
    "bins = np.arange(10, 99, 5)\n",
    "ax_1 = df_1.age.groupby(pd.cut(df_1.age, bins)).agg([count_nonzero]).plot(kind='bar', legend=False)\n",
    "ax_1.set_title(\"age distribution\")\n",
    "ax_1.text(0,-80000,'Figure 1: The distribution of age for city bank riders is trend to have a normal distibution \\n' +\n",
    "                    'since it has a rather big sample size.',\n",
    "                    fontsize = 12)\n"
   ]
  },
  {
   "cell_type": "code",
   "execution_count": 28,
   "metadata": {
    "collapsed": false
   },
   "outputs": [
    {
     "data": {
      "text/plain": [
       "array([ 47.99170466,  47.65656627,  20.46238649, ...,  43.74869154,\n",
       "        37.63221391,  32.49053042])"
      ]
     },
     "execution_count": 28,
     "metadata": {},
     "output_type": "execute_result"
    }
   ],
   "source": [
    "np.random.seed(123123123)\n",
    "ax_2 = np.random.normal(loc = age_mean, scale = age_std, size = len(df_1.age))\n",
    "ax_2"
   ]
  },
  {
   "cell_type": "code",
   "execution_count": 29,
   "metadata": {
    "collapsed": true
   },
   "outputs": [],
   "source": [
    "import scipy.stats"
   ]
  },
  {
   "cell_type": "markdown",
   "metadata": {},
   "source": [
    "# KS tests to compare 2 samples - Normal Distribution\n",
    "http://docs.scipy.org/doc/scipy-0.15.1/reference/generated/scipy.stats.ks_2samp.html"
   ]
  },
  {
   "cell_type": "code",
   "execution_count": 63,
   "metadata": {
    "collapsed": false
   },
   "outputs": [
    {
     "name": "stdout",
     "output_type": "stream",
     "text": [
      "Ks_2sampResult(statistic=0.10714108190466459, pvalue=0.0)\n"
     ]
    }
   ],
   "source": [
    "ks_n = scipy.stats.ks_2samp(df_1.age, ax_2)\n",
    "\n",
    "pvalue_n = ks_n.pvalue\n",
    "D_n = ks_n.statistic\n",
    "print (ks_n)"
   ]
  },
  {
   "cell_type": "code",
   "execution_count": 64,
   "metadata": {
    "collapsed": false
   },
   "outputs": [
    {
     "name": "stdout",
     "output_type": "stream",
     "text": [
      "NULL HYPOTHESIS: The distribution of age is normal distribution with the same mean and standard deviation. Significance level p = 0.05.\n",
      "Result:\n",
      "We can reject the null hypothesis since the pvalue: 0.0000000000 is less than alpha: 0.05, which means that the distribution of age is not normal distribution and the difference is 0.107.\n"
     ]
    }
   ],
   "source": [
    "alpha = 0.05\n",
    "\n",
    "def report_ks(p, alpha, d):\n",
    "    print('NULL HYPOTHESIS: The distribution of age is normal distribution with the same mean and standard deviation'\n",
    "          + '. Significance level p = 0.05.')\n",
    "    print('Result:')\n",
    "    if p < alpha:\n",
    "        print ( 'We can reject the null hypothesis since the pvalue: %.10f is less than alpha: %.2f, '%(p, alpha) +\n",
    "              'which means that the distribution of age is not normal distribution and the difference is %.3f.'%(d)) \n",
    "    else:\n",
    "        print ( 'We can not reject the null hypothesis since pvalue: %.10f is less than alpha: %.2f, '%(p, alpha) +\n",
    "              'which means that two distributions are identified and the difference is %.3f.'%(d))\n",
    "                                                                                    \n",
    "\n",
    "report_ks(pvalue_n, alpha, D_n)"
   ]
  },
  {
   "cell_type": "markdown",
   "metadata": {},
   "source": [
    "# AD test to compare 2 samples - Normal Distribution\n",
    "http://docs.scipy.org/doc/scipy/reference/generated/scipy.stats.anderson.html#scipy.stats.anderson"
   ]
  },
  {
   "cell_type": "code",
   "execution_count": 65,
   "metadata": {
    "collapsed": false
   },
   "outputs": [
    {
     "name": "stdout",
     "output_type": "stream",
     "text": [
      "AndersonResult(statistic=13805.856181447394, critical_values=array([ 0.576,  0.656,  0.787,  0.918,  1.092]), significance_level=array([ 15. ,  10. ,   5. ,   2.5,   1. ]))\n"
     ]
    }
   ],
   "source": [
    "ad_n = scipy.stats.anderson(df_1.age, dist='norm')\n",
    "\n",
    "print (ad_n)"
   ]
  },
  {
   "cell_type": "code",
   "execution_count": 78,
   "metadata": {
    "collapsed": false
   },
   "outputs": [
    {
     "name": "stdout",
     "output_type": "stream",
     "text": [
      "NULL HYPOTHESIS: The distribution of age is normal distribution with the same mean and standard deviation. Significance level = 0.15. \n",
      "Result:\n",
      "We can reject the null hypothesis since the k2 value: 13805.86 is larger than alpha: 0.15, which means that the distribution of age is not normal distribution.\n",
      "\n",
      "NULL HYPOTHESIS: The distribution of age is normal distribution with the same mean and standard deviation. Significance level = 0.10. \n",
      "Result:\n",
      "We can reject the null hypothesis since the k2 value: 13805.86 is larger than alpha: 0.10, which means that the distribution of age is not normal distribution.\n",
      "\n",
      "NULL HYPOTHESIS: The distribution of age is normal distribution with the same mean and standard deviation. Significance level = 0.05. \n",
      "Result:\n",
      "We can reject the null hypothesis since the k2 value: 13805.86 is larger than alpha: 0.05, which means that the distribution of age is not normal distribution.\n",
      "\n",
      "NULL HYPOTHESIS: The distribution of age is normal distribution with the same mean and standard deviation. Significance level = 0.03. \n",
      "Result:\n",
      "We can reject the null hypothesis since the k2 value: 13805.86 is larger than alpha: 0.03, which means that the distribution of age is not normal distribution.\n",
      "\n",
      "NULL HYPOTHESIS: The distribution of age is normal distribution with the same mean and standard deviation. Significance level = 0.01. \n",
      "Result:\n",
      "We can reject the null hypothesis since the k2 value: 13805.86 is larger than alpha: 0.01, which means that the distribution of age is not normal distribution.\n",
      "\n"
     ]
    }
   ],
   "source": [
    "\n",
    "def report_ad(anderson):\n",
    "    k2 = anderson.statistic\n",
    "    \n",
    "    for i in range(0,5):\n",
    "        alpha = anderson.significance_level[i]/100\n",
    "        print('NULL HYPOTHESIS: The distribution of age is normal distribution with the same mean and standard deviation'\n",
    "          + '. Significance level = %.2f. '%(alpha))\n",
    "        print('Result:')\n",
    "        \n",
    "        if k2 > anderson.critical_values[i]:\n",
    "            print ( 'We can reject the null hypothesis since the k2 value: '\n",
    "                   + '%.2f is larger than alpha: %.2f, '%(k2, alpha) \n",
    "                   + 'which means that the distribution of age is not normal distribution.') \n",
    "        else:\n",
    "            print ( 'We can not reject the null hypothesis since pvalue: ' +\n",
    "                   '%.2f is larger than alpha: %.2f, '%(k2, alpha) \n",
    "                   + 'which means that the distribution of age is normal distribution.')\n",
    "        print()\n",
    "                                                                                    \n",
    "\n",
    "report_ad(ad_n)"
   ]
  },
  {
   "cell_type": "markdown",
   "metadata": {},
   "source": [
    "# KS tests to compare 2 samples - Gumbel Distribution\n",
    "http://docs.scipy.org/doc/scipy-0.15.1/reference/generated/scipy.stats.ks_2samp.html"
   ]
  },
  {
   "cell_type": "code",
   "execution_count": 67,
   "metadata": {
    "collapsed": false
   },
   "outputs": [
    {
     "data": {
      "text/plain": [
       "array([ 35.17046846,  34.81142008,  47.16324114, ...,  57.71978467,\n",
       "        45.02518916,  36.38666546])"
      ]
     },
     "execution_count": 67,
     "metadata": {},
     "output_type": "execute_result"
    }
   ],
   "source": [
    "np.random.seed(123123123)\n",
    "ax_3 = numpy.random.gumbel(loc = age_mean, scale = age_std, size = len(df_1.age))\n",
    "ax_3"
   ]
  },
  {
   "cell_type": "code",
   "execution_count": 69,
   "metadata": {
    "collapsed": false
   },
   "outputs": [
    {
     "name": "stdout",
     "output_type": "stream",
     "text": [
      "Ks_2sampResult(statistic=0.22995081248379462, pvalue=0.0)\n"
     ]
    }
   ],
   "source": [
    "ks_g = scipy.stats.ks_2samp(df_1.age, ax_3)\n",
    "\n",
    "pvalue_g = ks_g.pvalue\n",
    "D_g = ks_g.statistic\n",
    "print (ks_g)"
   ]
  },
  {
   "cell_type": "code",
   "execution_count": 70,
   "metadata": {
    "collapsed": false
   },
   "outputs": [
    {
     "name": "stdout",
     "output_type": "stream",
     "text": [
      "NULL HYPOTHESIS: The distribution of age is normal distribution with the same mean and standard deviation. Significance level p = 0.05.\n",
      "Result:\n",
      "We can reject the null hypothesis since the pvalue: 0.0000000000 is less than alpha: 0.05, which means that the distribution of age is not normal distribution and the difference is 0.230.\n"
     ]
    }
   ],
   "source": [
    "alpha = 0.05\n",
    "\n",
    "def report_ks(p, alpha, d):\n",
    "    print('NULL HYPOTHESIS: The distribution of age is normal distribution with the same mean and standard deviation'\n",
    "          + '. Significance level p = 0.05.')\n",
    "    print('Result:')\n",
    "    if p < alpha:\n",
    "        print ( 'We can reject the null hypothesis since the pvalue: %.10f is less than alpha: %.2f, '%(p, alpha) +\n",
    "              'which means that the distribution of age is not normal distribution and the difference is %.3f.'%(d)) \n",
    "    else:\n",
    "        print ( 'We can not reject the null hypothesis since pvalue: %.10f is less than alpha: %.2f, '%(p, alpha) +\n",
    "              'which means that two distributions are identified and the difference is %.3f.'%(d))\n",
    "                                                                                    \n",
    "\n",
    "report_ks(pvalue_g, alpha, D_g)"
   ]
  },
  {
   "cell_type": "markdown",
   "metadata": {},
   "source": [
    "# AD test to compare 2 samples - Gumbel Distribution\n",
    "http://docs.scipy.org/doc/scipy/reference/generated/scipy.stats.anderson.html#scipy.stats.anderson"
   ]
  },
  {
   "cell_type": "code",
   "execution_count": 73,
   "metadata": {
    "collapsed": false
   },
   "outputs": [
    {
     "name": "stdout",
     "output_type": "stream",
     "text": [
      "AndersonResult(statistic=inf, critical_values=array([ 0.474,  0.637,  0.757,  0.877,  1.038]), significance_level=array([ 25. ,  10. ,   5. ,   2.5,   1. ]))\n"
     ]
    }
   ],
   "source": [
    "ad_g = scipy.stats.anderson(df_1.age, dist='gumbel')\n",
    "\n",
    "print (ad_g)"
   ]
  },
  {
   "cell_type": "code",
   "execution_count": 81,
   "metadata": {
    "collapsed": false
   },
   "outputs": [
    {
     "name": "stdout",
     "output_type": "stream",
     "text": [
      "NULL HYPOTHESIS: The distribution of age is normal distribution with the same mean and standard deviation. Significance level = 0.25. \n",
      "Result:\n",
      "We can reject the null hypothesis since the k2 value: inf is larger than alpha: 0.25, which means that the distribution of age is not normal distribution.\n",
      "\n",
      "NULL HYPOTHESIS: The distribution of age is normal distribution with the same mean and standard deviation. Significance level = 0.10. \n",
      "Result:\n",
      "We can reject the null hypothesis since the k2 value: inf is larger than alpha: 0.10, which means that the distribution of age is not normal distribution.\n",
      "\n",
      "NULL HYPOTHESIS: The distribution of age is normal distribution with the same mean and standard deviation. Significance level = 0.05. \n",
      "Result:\n",
      "We can reject the null hypothesis since the k2 value: inf is larger than alpha: 0.05, which means that the distribution of age is not normal distribution.\n",
      "\n",
      "NULL HYPOTHESIS: The distribution of age is normal distribution with the same mean and standard deviation. Significance level = 0.03. \n",
      "Result:\n",
      "We can reject the null hypothesis since the k2 value: inf is larger than alpha: 0.03, which means that the distribution of age is not normal distribution.\n",
      "\n",
      "NULL HYPOTHESIS: The distribution of age is normal distribution with the same mean and standard deviation. Significance level = 0.01. \n",
      "Result:\n",
      "We can reject the null hypothesis since the k2 value: inf is larger than alpha: 0.01, which means that the distribution of age is not normal distribution.\n",
      "\n"
     ]
    }
   ],
   "source": [
    "def report_ad(anderson):\n",
    "    k2 = anderson.statistic\n",
    "    \n",
    "    for i in range(0,5):\n",
    "        alpha = anderson.significance_level[i]/100\n",
    "        print('NULL HYPOTHESIS: The distribution of age is normal distribution with the same mean and standard deviation'\n",
    "          + '. Significance level = %.2f. '%(alpha))\n",
    "        print('Result:')\n",
    "        \n",
    "        if k2 > anderson.critical_values[i] :\n",
    "            print ( 'We can reject the null hypothesis since the k2 value: '\n",
    "                   + '%.2f is larger than alpha: %.2f, '%(k2, alpha) \n",
    "                   + 'which means that the distribution of age is not normal distribution.') \n",
    "        else:\n",
    "            print ( 'We can not reject the null hypothesis since pvalue: ' +\n",
    "                   '%.2f is larger than alpha: %.2f, '%(k2, alpha) \n",
    "                   + 'which means that the distribution of age is normal distribution.')\n",
    "        print()\n",
    "                                                                                    \n",
    "\n",
    "report_ad(ad_g)"
   ]
  },
  {
   "cell_type": "markdown",
   "metadata": {
    "collapsed": true
   },
   "source": [
    "# Extra Credit\n",
    "I use latitude 40.756 as the threshold to divide the sample into two group, and then use KS - 2 sample test to test two age distribution."
   ]
  },
  {
   "cell_type": "code",
   "execution_count": 101,
   "metadata": {
    "collapsed": false
   },
   "outputs": [],
   "source": [
    "df_1['start station latitude']\n",
    "a = df_1\n",
    "abol_1 = df_1['start station latitude'] < 40.756\n",
    "abol_2 = df_1['start station latitude'] >= 40.756\n",
    "df_dt = a[abol_1]\n",
    "df_ut = a[abol_2]\n"
   ]
  },
  {
   "cell_type": "code",
   "execution_count": 112,
   "metadata": {
    "collapsed": false
   },
   "outputs": [
    {
     "data": {
      "text/plain": [
       "<matplotlib.text.Text at 0x7f0315ae0650>"
      ]
     },
     "execution_count": 112,
     "metadata": {},
     "output_type": "execute_result"
    },
    {
     "data": {
      "image/png": "[encoded data removed]",
      "text/plain": [
       "<matplotlib.figure.Figure at 0x7f0315d9ab50>"
      ]
     },
     "metadata": {},
     "output_type": "display_data"
    }
   ],
   "source": [
    "bins = np.arange(10, 99, 5)\n",
    "ax_2 = df_dt.age.groupby(pd.cut(df_dt.age, bins)).agg([count_nonzero]).plot(kind='bar', legend=False)\n",
    "ax_2.set_title(\"age distribution - downtown\")\n",
    "ax_2.text(0,-60000,'Figure 2: The distribution of age for Downtown riders is trend to have a normal distibution \\n' +\n",
    "                    'since it has a rather big sample size.',\n",
    "                    fontsize = 12)\n"
   ]
  },
  {
   "cell_type": "code",
   "execution_count": 110,
   "metadata": {
    "collapsed": false
   },
   "outputs": [
    {
     "data": {
      "text/plain": [
       "<matplotlib.text.Text at 0x7f03155f53d0>"
      ]
     },
     "execution_count": 110,
     "metadata": {},
     "output_type": "execute_result"
    },
    {
     "data": {
      "image/png": "[encoded data removed]",
      "text/plain": [
       "<matplotlib.figure.Figure at 0x7f0315730bd0>"
      ]
     },
     "metadata": {},
     "output_type": "display_data"
    }
   ],
   "source": [
    "bins = np.arange(10, 99, 5)\n",
    "ax_3 = df_ut.age.groupby(pd.cut(df_ut.age, bins)).agg([count_nonzero]).plot(kind='bar', legend=False)\n",
    "ax_3.set_title(\"age distribution - downtown\")\n",
    "ax_3.text(0,-12000,'Figure 3: The distribution of age for Uptown riders is trend to have a normal distibution \\n' +\n",
    "                    'since it has a rather big sample size.',\n",
    "                    fontsize = 12)"
   ]
  },
  {
   "cell_type": "markdown",
   "metadata": {},
   "source": [
    "# KS tests to compare 2 samples"
   ]
  },
  {
   "cell_type": "code",
   "execution_count": 117,
   "metadata": {
    "collapsed": false
   },
   "outputs": [],
   "source": [
    "df_ut['age'].dropna(inplace= True)\n",
    "df_dt['age'].dropna(inplace= True)\n",
    "ks = scipy.stats.ks_2samp(df_dt.age, df_ut.age)\n",
    "p = ks.pvalue\n",
    "d = ks.statistic"
   ]
  },
  {
   "cell_type": "code",
   "execution_count": 119,
   "metadata": {
    "collapsed": false
   },
   "outputs": [
    {
     "name": "stdout",
     "output_type": "stream",
     "text": [
      "NULL HYPOTHESIS: Two distribution of age for downtown and uptown are from the same distribution. Significance level p = 0.05.\n",
      "Result:\n",
      "We can reject the null hypothesis since the pvalue: 0.0000000000 is less than alpha: 0.05, which means that the distribution of age is not normal distribution and the difference is 0.037.\n"
     ]
    }
   ],
   "source": [
    "def report_ks_1(p, alpha, d):\n",
    "    print('NULL HYPOTHESIS: Two distribution of age for downtown and uptown are from the same distribution'\n",
    "          + '. Significance level p = 0.05.')\n",
    "    print('Result:')\n",
    "    if p < alpha:\n",
    "        print ( 'We can reject the null hypothesis since the pvalue: %.10f is less than alpha: %.2f, '%(p, alpha) +\n",
    "              'which means that the distribution of age is not normal distribution and the difference is %.3f.'%(d)) \n",
    "    else:\n",
    "        print ( 'We can not reject the null hypothesis since pvalue: %.10f is less than alpha: %.2f, '%(p, alpha) +\n",
    "              'which means that two distributions are identified and the difference is %.3f.'%(d))\n",
    "                                                                                    \n",
    "report_ks_1(p, alpha, d)"
   ]
  },
  {
   "cell_type": "code",
   "execution_count": null,
   "metadata": {
    "collapsed": true
   },
   "outputs": [],
   "source": []
  }
 ],
 "metadata": {
  "kernelspec": {
   "display_name": "PUI2016_Python2",
   "language": "python",
   "name": "pui2016_python2"
  },
  "language_info": {
   "codemirror_mode": {
    "name": "ipython",
    "version": 2
   },
   "file_extension": ".py",
   "mimetype": "text/x-python",
   "name": "python",
   "nbconvert_exporter": "python",
   "pygments_lexer": "ipython2",
   "version": "2.7.12"
  }
 },
 "nbformat": 4,
 "nbformat_minor": 0
}
